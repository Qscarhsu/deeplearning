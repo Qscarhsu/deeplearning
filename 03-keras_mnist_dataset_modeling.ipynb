{
 "cells": [
  {
   "cell_type": "markdown",
   "metadata": {},
   "source": [
    "# 本筆記將帶大家用Keras建模\n",
    "# 此範例使用MNIST手寫數字資料集"
   ]
  },
  {
   "cell_type": "markdown",
   "metadata": {},
   "source": [
    "---\n",
    "\n",
    "# 索引\n",
    "\n",
    "[1. 資料準備](#I.-資料準備)\n",
    "  * [1.a. 載入圖片](#1.a.-載入圖片)\n",
    "  * [1.b. 利用Pandas可迅速了解每個資料夾裡面有幾張圖片](#1.b.-利用Pandas可迅速了解每個資料夾裡面有幾張圖片)\n",
    "  * [1.c. 將圖片路徑資料切割成三份：取其80%做為train-data。 之後，剩下的20%中的10%做validation data，10%做test data](#1.c.-將圖片路徑資料切割成三份：取其80%做為train-data。-之後，剩下的20%中的10%做validation-data，10%做test-data)\n",
    "  * [1.d. 將圖片載入，存成數值矩陣](#1.d.-將圖片載入，存成數值矩陣)\n",
    "  \n",
    "\n",
    "[2. Softmax Regression](#2.-Softmax-Regression)\n",
    "\n",
    "  * [2.a. 將y 轉成one hot形式](#2.a.-將y-轉成one-hot形式)\n",
    "  * [2.b. 開始建立模型](#2.b.-開始建立模型)\n",
    "  * [2.c. 開始訓練模型](#2.c.-開始訓練模型)\n",
    "  * [2.d. 檢視訓練好的模型用於test data有多少準確率](#2.d.-檢視訓練好的模型用於test-data有多少準確率)\n",
    "  * [2.e. 檢視50筆測試資料的預測結果，以稍為了解預測是否還算ok](#2.e.-檢視50筆測試資料的預測結果，以稍為了解預測是否還算ok)\n",
    "  * [2.f. 畫出模型訓練過程](#2.f.-畫出模型訓練過程)\n",
    "  * [2.g. 儲存模型和權重](#2.g.-儲存模型和權重)\n",
    "  * [2.h. 載入存好的模型和權重](#2.h.-載入存好的模型和權重)\n",
    "  * [2.i. 輸出分類報告](#2.i.-輸出分類報告)\n",
    "  \n",
    "[3. Simple Convolutional Neural Network](#3.-Simple-Convolutional-Neural-Network)\n",
    "\n",
    "  * [3.a. 建立模型](#3.a.-建立模型)\n",
    "  * [3.b. 訓練模型](#3.b.-訓練模型)\n",
    "  * [3.c. 檢視模型訓練結果](#3.c.-檢視模型訓練結果)\n",
    "  * [3.d. 檢視模型準確率](#3.d.-檢視模型準確率)\n",
    "  * [3.e. 檢視分類報告](#3.e.-檢視分類報告)\n",
    "  \n",
    "---"
   ]
  },
  {
   "cell_type": "code",
   "execution_count": 1,
   "metadata": {},
   "outputs": [
    {
     "data": {
      "text/plain": [
       "'torch'"
      ]
     },
     "execution_count": 1,
     "metadata": {},
     "output_type": "execute_result"
    }
   ],
   "source": [
    "import os\n",
    "\n",
    "os.environ[\"CUDA_VISIBLE_DEVICES\"] = \"0\"\n",
    "os.environ[\"KERAS_BACKEND\"] = \"torch\"\n",
    "\n",
    "import keras\n",
    "\n",
    "keras.config.backend()"
   ]
  },
  {
   "cell_type": "code",
   "execution_count": 2,
   "metadata": {},
   "outputs": [],
   "source": [
    "import numpy as np\n",
    "import matplotlib.pyplot as plt\n",
    "import seaborn as sns\n",
    "\n",
    "sns.set()\n",
    "import pandas as pd\n",
    "import sklearn"
   ]
  },
  {
   "cell_type": "markdown",
   "metadata": {},
   "source": [
    "---"
   ]
  },
  {
   "cell_type": "markdown",
   "metadata": {},
   "source": [
    "### 1. 資料準備"
   ]
  },
  {
   "cell_type": "markdown",
   "metadata": {},
   "source": [
    "#### 1.a. 載入圖片"
   ]
  },
  {
   "cell_type": "code",
   "execution_count": 4,
   "metadata": {},
   "outputs": [],
   "source": [
    "import os\n",
    "from pathlib import Path"
   ]
  },
  {
   "cell_type": "code",
   "execution_count": 6,
   "metadata": {},
   "outputs": [],
   "source": [
    "# def filePathsGen(rootPath):\n",
    "#     \"\"\"此函數將rootPath資料夾目錄中的所有圖片路徑資訊儲存至一個清單內。\"\"\"\n",
    "#     paths = []\n",
    "#     dirs = []\n",
    "#     for dirPath, dirNames, fileNames in os.walk(rootPath):\n",
    "#         for fileName in fileNames:\n",
    "#             fullPath = os.path.join(dirPath, fileName)\n",
    "#             paths.append((int(dirPath[len(rootPath)]), fullPath))\n",
    "#         dirs.append(dirNames)\n",
    "#     return dirs, paths"
   ]
  },
  {
   "cell_type": "code",
   "execution_count": null,
   "metadata": {},
   "outputs": [],
   "source": [
    "data_dir = Path(\"/home/ds/BDSE_DL_v2025.02/datasets/mnist\")\n",
    "path_data = [\n",
    "    (int(path.parent.stem), path) for path in sorted(data_dir.glob(\"**/*.jpg\"))\n",
    "]\n",
    "dfPath = pd.DataFrame(\n",
    "    path_data,\n",
    "    columns=[\"class\", \"path\"],\n",
    ")"
   ]
  },
  {
   "cell_type": "code",
   "execution_count": null,
   "metadata": {},
   "outputs": [],
   "source": [
    "!ls ../datasets/mnist"
   ]
  },
  {
   "cell_type": "code",
   "execution_count": null,
   "metadata": {},
   "outputs": [],
   "source": [
    "# dirs, paths = filePathsGen(\"../datasets/mnist/\")  # 載入圖片路徑\n",
    "\n",
    "# dfPath = pd.DataFrame(paths, columns=[\"class\", \"path\"])  # 圖片路徑存成Pandas資料表\n",
    "# dfPath.head(3)  # 看資料表前3個row"
   ]
  },
  {
   "cell_type": "markdown",
   "metadata": {},
   "source": [
    "[回索引](#索引)"
   ]
  },
  {
   "cell_type": "markdown",
   "metadata": {},
   "source": [
    "#### 1.b. 利用Pandas可迅速了解每個資料夾裡面有幾張圖片"
   ]
  },
  {
   "cell_type": "code",
   "execution_count": 21,
   "metadata": {},
   "outputs": [
    {
     "data": {
      "text/plain": [
       "<Axes: xlabel='class'>"
      ]
     },
     "execution_count": 21,
     "metadata": {},
     "output_type": "execute_result"
    },
    {
     "data": {
      "image/png": "[encoded data removed]",
      "text/plain": [
       "<Figure size 640x480 with 1 Axes>"
      ]
     },
     "metadata": {},
     "output_type": "display_data"
    }
   ],
   "source": [
    "# 依照class分群後，數各群的數量，並繪圖\n",
    "dfCountPerClass = dfPath.groupby(\"class\").count()\n",
    "dfCountPerClass.rename(columns={\"path\": \"amount of figures\"}, inplace=True)\n",
    "dfCountPerClass.plot(kind=\"bar\", rot=0)"
   ]
  },
  {
   "cell_type": "markdown",
   "metadata": {},
   "source": [
    "[回索引](#索引)"
   ]
  },
  {
   "cell_type": "markdown",
   "metadata": {},
   "source": [
    "####  1.c. 將圖片路徑資料切割成三份：取其80%做為train data。 之後，剩下的20%中取一半做validation data，另一半做test data"
   ]
  },
  {
   "cell_type": "code",
   "execution_count": 23,
   "metadata": {},
   "outputs": [
    {
     "name": "stdout",
     "output_type": "stream",
     "text": [
      "shape(all figures)=\t\t (60000, 2)\n",
      "shape(fraction of figures)=\t (6000, 2)\n",
      "shape(train)=\t\t\t (4800, 2)\n",
      "shape(trainVal)=\t\t (600, 2)\n",
      "shape(test)=\t\t\t (600, 2)\n"
     ]
    },
    {
     "data": {
      "image/png": "[encoded data removed]",
      "text/plain": [
       "<Figure size 640x480 with 1 Axes>"
      ]
     },
     "metadata": {},
     "output_type": "display_data"
    },
    {
     "data": {
      "image/png": "[encoded data removed]",
      "text/plain": [
       "<Figure size 640x480 with 1 Axes>"
      ]
     },
     "metadata": {},
     "output_type": "display_data"
    },
    {
     "data": {
      "image/png": "[encoded data removed]",
      "text/plain": [
       "<Figure size 640x480 with 1 Axes>"
      ]
     },
     "metadata": {},
     "output_type": "display_data"
    }
   ],
   "source": [
    "dfFrac = dfPath.sample(frac=0.1)  # 打亂一下path data\n",
    "\n",
    "train = dfFrac.sample(frac=0.8)  # 將path data隨機取樣，80%的path data當train\n",
    "test = dfFrac.drop(train.index)  # 20%的path data當test\n",
    "\n",
    "trainVal = test.sample(frac=0.5)\n",
    "test = test.drop(trainVal.index)\n",
    "\n",
    "print(\"shape(all figures)=\\t\\t\", dfPath.shape)\n",
    "print(\"shape(fraction of figures)=\\t\", dfFrac.shape)\n",
    "print(\"shape(train)=\\t\\t\\t\", train.shape)\n",
    "print(\"shape(trainVal)=\\t\\t\", trainVal.shape)\n",
    "print(\"shape(test)=\\t\\t\\t\", test.shape)\n",
    "\n",
    "# 隨便抓三張圖來看\n",
    "for j in range(3):\n",
    "    img = plt.imread(train[\"path\"].iloc[j])\n",
    "    plt.imshow(img, cmap=\"gray\")\n",
    "    plt.show()"
   ]
  },
  {
   "cell_type": "markdown",
   "metadata": {},
   "source": [
    "[回索引](#索引)"
   ]
  },
  {
   "cell_type": "markdown",
   "metadata": {},
   "source": [
    "####  1.d. 將圖片載入，存成數值矩陣"
   ]
  },
  {
   "cell_type": "code",
   "execution_count": 24,
   "metadata": {},
   "outputs": [],
   "source": [
    "def dataLoad(dfPath):\n",
    "    paths = dfPath[\"path\"].values\n",
    "    x = np.zeros((len(paths), 28, 28), dtype=np.float32)  # [num_paths, H=28, W=28]\n",
    "    for j in range(len(paths)):\n",
    "        x[j, :, :] = plt.imread(paths[j]) / 255.0  # [num_paths, H, W]\n",
    "\n",
    "    y = dfPath[\"class\"].values\n",
    "    return x, y"
   ]
  },
  {
   "cell_type": "code",
   "execution_count": 25,
   "metadata": {},
   "outputs": [],
   "source": [
    "trainX, trainY = dataLoad(train)\n",
    "trainValX, trainValY = dataLoad(trainVal)\n",
    "testX, testY = dataLoad(test)"
   ]
  },
  {
   "cell_type": "code",
   "execution_count": 26,
   "metadata": {},
   "outputs": [
    {
     "name": "stdout",
     "output_type": "stream",
     "text": [
      "train:\t (4800, 28, 28) (4800,)\n",
      "trainVal: (600, 28, 28) (600,)\n",
      "test:\t (600, 28, 28) (600,)\n"
     ]
    }
   ],
   "source": [
    "print(\"train:\\t\", trainX.shape, trainY.shape)\n",
    "print(\"trainVal:\", trainValX.shape, trainValY.shape)\n",
    "print(\"test:\\t\", testX.shape, testY.shape)"
   ]
  },
  {
   "cell_type": "code",
   "execution_count": 28,
   "metadata": {},
   "outputs": [
    {
     "data": {
      "text/plain": [
       "(28, 28)"
      ]
     },
     "execution_count": 28,
     "metadata": {},
     "output_type": "execute_result"
    }
   ],
   "source": [
    "testX[3].shape"
   ]
  },
  {
   "cell_type": "code",
   "execution_count": null,
   "metadata": {},
   "outputs": [
    {
     "data": {
      "image/png": "[encoded data removed]",
      "text/plain": [
       "<Figure size 640x480 with 1 Axes>"
      ]
     },
     "metadata": {},
     "output_type": "display_data"
    }
   ],
   "source": [
    "idx = 11\n",
    "plt.imshow(testX[idx], cmap=\"gray\")\n",
    "plt.title(testY[idx])\n",
    "plt.show()"
   ]
  },
  {
   "cell_type": "markdown",
   "metadata": {},
   "source": [
    "[回索引](#索引)"
   ]
  },
  {
   "cell_type": "markdown",
   "metadata": {},
   "source": [
    "## 2. Softmax Regression"
   ]
  },
  {
   "cell_type": "code",
   "execution_count": 36,
   "metadata": {},
   "outputs": [],
   "source": [
    "from keras.models import Sequential\n",
    "from keras.layers import Dense, Flatten\n",
    "from keras.optimizers import SGD"
   ]
  },
  {
   "cell_type": "markdown",
   "metadata": {},
   "source": [
    "#### 2.a. 將y 轉成one hot形式"
   ]
  },
  {
   "cell_type": "code",
   "execution_count": 37,
   "metadata": {},
   "outputs": [],
   "source": [
    "from sklearn.preprocessing import OneHotEncoder\n",
    "\n",
    "enc = OneHotEncoder()\n",
    "trainYOneHot = enc.fit_transform(trainY.reshape(-1, 1)).toarray()\n",
    "\n",
    "trainValYOneHot = enc.fit_transform(trainValY.reshape(-1, 1)).toarray()\n",
    "\n",
    "testYOneHot = enc.fit_transform(testY.reshape(-1, 1)).toarray()"
   ]
  },
  {
   "cell_type": "markdown",
   "metadata": {},
   "source": [
    "[回索引](#索引)"
   ]
  },
  {
   "cell_type": "markdown",
   "metadata": {},
   "source": [
    "#### 2.b. 開始建立模型"
   ]
  },
  {
   "cell_type": "code",
   "execution_count": 39,
   "metadata": {},
   "outputs": [],
   "source": [
    "from keras.layers import Flatten"
   ]
  },
  {
   "cell_type": "code",
   "execution_count": 41,
   "metadata": {},
   "outputs": [],
   "source": [
    "model = Sequential()\n",
    "model.add(Flatten(input_shape=(28, 28)))  # [BS, 28, 28] -> [BS, 28*28]\n",
    "model.add(Dense(10, activation=\"softmax\"))  # [BS, 28*28] -> [BS, 10]\n",
    "\n",
    "sgd = SGD(learning_rate=0.05)\n",
    "\n",
    "model.compile(\n",
    "    optimizer=sgd,\n",
    "    loss=\"categorical_crossentropy\",\n",
    "    metrics=[\"accuracy\"],\n",
    ")  # 告知模型訓練方式"
   ]
  },
  {
   "cell_type": "code",
   "execution_count": 42,
   "metadata": {},
   "outputs": [
    {
     "data": {
      "text/html": [
       "<pre style=\"white-space:pre;overflow-x:auto;line-height:normal;font-family:Menlo,'DejaVu Sans Mono',consolas,'Courier New',monospace\"><span style=\"font-weight: bold\">Model: \"sequential_1\"</span>\n",
       "</pre>\n"
      ],
      "text/plain": [
       "\u001b[1mModel: \"sequential_1\"\u001b[0m\n"
      ]
     },
     "metadata": {},
     "output_type": "display_data"
    },
    {
     "data": {
      "text/html": [
       "<pre style=\"white-space:pre;overflow-x:auto;line-height:normal;font-family:Menlo,'DejaVu Sans Mono',consolas,'Courier New',monospace\">┏━━━━━━━━━━━━━━━━━━━━━━━━━━━━━━━━━┳━━━━━━━━━━━━━━━━━━━━━━━━┳━━━━━━━━━━━━━━━┓\n",
       "┃<span style=\"font-weight: bold\"> Layer (type)                    </span>┃<span style=\"font-weight: bold\"> Output Shape           </span>┃<span style=\"font-weight: bold\">       Param # </span>┃\n",
       "┡━━━━━━━━━━━━━━━━━━━━━━━━━━━━━━━━━╇━━━━━━━━━━━━━━━━━━━━━━━━╇━━━━━━━━━━━━━━━┩\n",
       "│ flatten_1 (<span style=\"color: #0087ff; text-decoration-color: #0087ff\">Flatten</span>)             │ (<span style=\"color: #00d7ff; text-decoration-color: #00d7ff\">None</span>, <span style=\"color: #00af00; text-decoration-color: #00af00\">784</span>)            │             <span style=\"color: #00af00; text-decoration-color: #00af00\">0</span> │\n",
       "├─────────────────────────────────┼────────────────────────┼───────────────┤\n",
       "│ dense_1 (<span style=\"color: #0087ff; text-decoration-color: #0087ff\">Dense</span>)                 │ (<span style=\"color: #00d7ff; text-decoration-color: #00d7ff\">None</span>, <span style=\"color: #00af00; text-decoration-color: #00af00\">10</span>)             │         <span style=\"color: #00af00; text-decoration-color: #00af00\">7,850</span> │\n",
       "└─────────────────────────────────┴────────────────────────┴───────────────┘\n",
       "</pre>\n"
      ],
      "text/plain": [
       "┏━━━━━━━━━━━━━━━━━━━━━━━━━━━━━━━━━┳━━━━━━━━━━━━━━━━━━━━━━━━┳━━━━━━━━━━━━━━━┓\n",
       "┃\u001b[1m \u001b[0m\u001b[1mLayer (type)                   \u001b[0m\u001b[1m \u001b[0m┃\u001b[1m \u001b[0m\u001b[1mOutput Shape          \u001b[0m\u001b[1m \u001b[0m┃\u001b[1m \u001b[0m\u001b[1m      Param #\u001b[0m\u001b[1m \u001b[0m┃\n",
       "┡━━━━━━━━━━━━━━━━━━━━━━━━━━━━━━━━━╇━━━━━━━━━━━━━━━━━━━━━━━━╇━━━━━━━━━━━━━━━┩\n",
       "│ flatten_1 (\u001b[38;5;33mFlatten\u001b[0m)             │ (\u001b[38;5;45mNone\u001b[0m, \u001b[38;5;34m784\u001b[0m)            │             \u001b[38;5;34m0\u001b[0m │\n",
       "├─────────────────────────────────┼────────────────────────┼───────────────┤\n",
       "│ dense_1 (\u001b[38;5;33mDense\u001b[0m)                 │ (\u001b[38;5;45mNone\u001b[0m, \u001b[38;5;34m10\u001b[0m)             │         \u001b[38;5;34m7,850\u001b[0m │\n",
       "└─────────────────────────────────┴────────────────────────┴───────────────┘\n"
      ]
     },
     "metadata": {},
     "output_type": "display_data"
    },
    {
     "data": {
      "text/html": [
       "<pre style=\"white-space:pre;overflow-x:auto;line-height:normal;font-family:Menlo,'DejaVu Sans Mono',consolas,'Courier New',monospace\"><span style=\"font-weight: bold\"> Total params: </span><span style=\"color: #00af00; text-decoration-color: #00af00\">7,850</span> (30.66 KB)\n",
       "</pre>\n"
      ],
      "text/plain": [
       "\u001b[1m Total params: \u001b[0m\u001b[38;5;34m7,850\u001b[0m (30.66 KB)\n"
      ]
     },
     "metadata": {},
     "output_type": "display_data"
    },
    {
     "data": {
      "text/html": [
       "<pre style=\"white-space:pre;overflow-x:auto;line-height:normal;font-family:Menlo,'DejaVu Sans Mono',consolas,'Courier New',monospace\"><span style=\"font-weight: bold\"> Trainable params: </span><span style=\"color: #00af00; text-decoration-color: #00af00\">7,850</span> (30.66 KB)\n",
       "</pre>\n"
      ],
      "text/plain": [
       "\u001b[1m Trainable params: \u001b[0m\u001b[38;5;34m7,850\u001b[0m (30.66 KB)\n"
      ]
     },
     "metadata": {},
     "output_type": "display_data"
    },
    {
     "data": {
      "text/html": [
       "<pre style=\"white-space:pre;overflow-x:auto;line-height:normal;font-family:Menlo,'DejaVu Sans Mono',consolas,'Courier New',monospace\"><span style=\"font-weight: bold\"> Non-trainable params: </span><span style=\"color: #00af00; text-decoration-color: #00af00\">0</span> (0.00 B)\n",
       "</pre>\n"
      ],
      "text/plain": [
       "\u001b[1m Non-trainable params: \u001b[0m\u001b[38;5;34m0\u001b[0m (0.00 B)\n"
      ]
     },
     "metadata": {},
     "output_type": "display_data"
    }
   ],
   "source": [
    "# 檢視一下所訓練的模型\n",
    "model.summary()"
   ]
  },
  {
   "cell_type": "markdown",
   "metadata": {},
   "source": [
    "[回索引](#索引)"
   ]
  },
  {
   "cell_type": "markdown",
   "metadata": {},
   "source": [
    "#### 2.c. 開始訓練模型"
   ]
  },
  {
   "cell_type": "code",
   "execution_count": 43,
   "metadata": {},
   "outputs": [
    {
     "name": "stdout",
     "output_type": "stream",
     "text": [
      "Epoch 1/20\n",
      "\u001b[1m38/38\u001b[0m \u001b[32m━━━━━━━━━━━━━━━━━━━━\u001b[0m\u001b[37m\u001b[0m \u001b[1m1s\u001b[0m 8ms/step - accuracy: 0.1607 - loss: 4.0779 - val_accuracy: 0.3833 - val_loss: 3.7560\n",
      "Epoch 2/20\n",
      "\u001b[1m38/38\u001b[0m \u001b[32m━━━━━━━━━━━━━━━━━━━━\u001b[0m\u001b[37m\u001b[0m \u001b[1m0s\u001b[0m 4ms/step - accuracy: 0.3473 - loss: 3.7528 - val_accuracy: 0.4517 - val_loss: 3.0621\n",
      "Epoch 3/20\n",
      "\u001b[1m38/38\u001b[0m \u001b[32m━━━━━━━━━━━━━━━━━━━━\u001b[0m\u001b[37m\u001b[0m \u001b[1m0s\u001b[0m 4ms/step - accuracy: 0.5514 - loss: 2.7131 - val_accuracy: 0.6600 - val_loss: 2.6450\n",
      "Epoch 4/20\n",
      "\u001b[1m38/38\u001b[0m \u001b[32m━━━━━━━━━━━━━━━━━━━━\u001b[0m\u001b[37m\u001b[0m \u001b[1m0s\u001b[0m 3ms/step - accuracy: 0.6508 - loss: 2.3553 - val_accuracy: 0.6517 - val_loss: 2.6565\n",
      "Epoch 5/20\n",
      "\u001b[1m38/38\u001b[0m \u001b[32m━━━━━━━━━━━━━━━━━━━━\u001b[0m\u001b[37m\u001b[0m \u001b[1m0s\u001b[0m 3ms/step - accuracy: 0.6524 - loss: 2.3666 - val_accuracy: 0.7450 - val_loss: 2.4503\n",
      "Epoch 6/20\n",
      "\u001b[1m38/38\u001b[0m \u001b[32m━━━━━━━━━━━━━━━━━━━━\u001b[0m\u001b[37m\u001b[0m \u001b[1m0s\u001b[0m 4ms/step - accuracy: 0.6849 - loss: 2.2907 - val_accuracy: 0.6567 - val_loss: 2.5270\n",
      "Epoch 7/20\n",
      "\u001b[1m38/38\u001b[0m \u001b[32m━━━━━━━━━━━━━━━━━━━━\u001b[0m\u001b[37m\u001b[0m \u001b[1m0s\u001b[0m 4ms/step - accuracy: 0.7208 - loss: 2.0940 - val_accuracy: 0.7083 - val_loss: 2.4636\n",
      "Epoch 8/20\n",
      "\u001b[1m38/38\u001b[0m \u001b[32m━━━━━━━━━━━━━━━━━━━━\u001b[0m\u001b[37m\u001b[0m \u001b[1m0s\u001b[0m 4ms/step - accuracy: 0.7283 - loss: 2.2338 - val_accuracy: 0.7083 - val_loss: 2.4708\n",
      "Epoch 9/20\n",
      "\u001b[1m38/38\u001b[0m \u001b[32m━━━━━━━━━━━━━━━━━━━━\u001b[0m\u001b[37m\u001b[0m \u001b[1m0s\u001b[0m 4ms/step - accuracy: 0.7273 - loss: 2.0757 - val_accuracy: 0.6800 - val_loss: 2.5546\n",
      "Epoch 10/20\n",
      "\u001b[1m38/38\u001b[0m \u001b[32m━━━━━━━━━━━━━━━━━━━━\u001b[0m\u001b[37m\u001b[0m \u001b[1m0s\u001b[0m 4ms/step - accuracy: 0.7409 - loss: 2.1229 - val_accuracy: 0.6817 - val_loss: 2.4994\n",
      "Epoch 11/20\n",
      "\u001b[1m38/38\u001b[0m \u001b[32m━━━━━━━━━━━━━━━━━━━━\u001b[0m\u001b[37m\u001b[0m \u001b[1m0s\u001b[0m 3ms/step - accuracy: 0.7620 - loss: 2.1305 - val_accuracy: 0.6933 - val_loss: 2.4405\n",
      "Epoch 12/20\n",
      "\u001b[1m38/38\u001b[0m \u001b[32m━━━━━━━━━━━━━━━━━━━━\u001b[0m\u001b[37m\u001b[0m \u001b[1m0s\u001b[0m 3ms/step - accuracy: 0.7567 - loss: 1.9452 - val_accuracy: 0.6667 - val_loss: 2.5068\n",
      "Epoch 13/20\n",
      "\u001b[1m38/38\u001b[0m \u001b[32m━━━━━━━━━━━━━━━━━━━━\u001b[0m\u001b[37m\u001b[0m \u001b[1m0s\u001b[0m 4ms/step - accuracy: 0.7692 - loss: 2.0152 - val_accuracy: 0.7433 - val_loss: 2.3780\n",
      "Epoch 14/20\n",
      "\u001b[1m38/38\u001b[0m \u001b[32m━━━━━━━━━━━━━━━━━━━━\u001b[0m\u001b[37m\u001b[0m \u001b[1m0s\u001b[0m 4ms/step - accuracy: 0.7774 - loss: 1.9626 - val_accuracy: 0.6667 - val_loss: 2.5259\n",
      "Epoch 15/20\n",
      "\u001b[1m38/38\u001b[0m \u001b[32m━━━━━━━━━━━━━━━━━━━━\u001b[0m\u001b[37m\u001b[0m \u001b[1m0s\u001b[0m 4ms/step - accuracy: 0.7697 - loss: 2.0869 - val_accuracy: 0.7533 - val_loss: 2.3181\n",
      "Epoch 16/20\n",
      "\u001b[1m38/38\u001b[0m \u001b[32m━━━━━━━━━━━━━━━━━━━━\u001b[0m\u001b[37m\u001b[0m \u001b[1m0s\u001b[0m 4ms/step - accuracy: 0.8002 - loss: 1.8924 - val_accuracy: 0.7550 - val_loss: 2.3423\n",
      "Epoch 17/20\n",
      "\u001b[1m38/38\u001b[0m \u001b[32m━━━━━━━━━━━━━━━━━━━━\u001b[0m\u001b[37m\u001b[0m \u001b[1m0s\u001b[0m 4ms/step - accuracy: 0.7738 - loss: 2.0701 - val_accuracy: 0.7183 - val_loss: 2.3642\n",
      "Epoch 18/20\n",
      "\u001b[1m38/38\u001b[0m \u001b[32m━━━━━━━━━━━━━━━━━━━━\u001b[0m\u001b[37m\u001b[0m \u001b[1m0s\u001b[0m 5ms/step - accuracy: 0.7767 - loss: 2.0523 - val_accuracy: 0.7250 - val_loss: 2.3711\n",
      "Epoch 19/20\n",
      "\u001b[1m38/38\u001b[0m \u001b[32m━━━━━━━━━━━━━━━━━━━━\u001b[0m\u001b[37m\u001b[0m \u001b[1m0s\u001b[0m 5ms/step - accuracy: 0.7899 - loss: 2.0783 - val_accuracy: 0.7717 - val_loss: 2.3085\n",
      "Epoch 20/20\n",
      "\u001b[1m38/38\u001b[0m \u001b[32m━━━━━━━━━━━━━━━━━━━━\u001b[0m\u001b[37m\u001b[0m \u001b[1m0s\u001b[0m 4ms/step - accuracy: 0.7926 - loss: 2.0152 - val_accuracy: 0.7583 - val_loss: 2.3345\n"
     ]
    }
   ],
   "source": [
    "hist = model.fit(\n",
    "    trainX,\n",
    "    trainYOneHot,\n",
    "    epochs=20,\n",
    "    batch_size=128,\n",
    "    validation_data=(trainValX, trainValYOneHot),\n",
    ")"
   ]
  },
  {
   "cell_type": "markdown",
   "metadata": {},
   "source": [
    "[回索引](#索引)"
   ]
  },
  {
   "cell_type": "markdown",
   "metadata": {},
   "source": [
    "#### 2.d. 檢視訓練好的模型用於test data有多少準確率"
   ]
  },
  {
   "cell_type": "code",
   "execution_count": 44,
   "metadata": {},
   "outputs": [
    {
     "name": "stdout",
     "output_type": "stream",
     "text": [
      "\u001b[1m5/5\u001b[0m \u001b[32m━━━━━━━━━━━━━━━━━━━━\u001b[0m\u001b[37m\u001b[0m \u001b[1m0s\u001b[0m 10ms/step - accuracy: 0.7981 - loss: 1.7214\n",
      "\n",
      "\n",
      "loss=1.9846936464309692 \n",
      "accuracy=0.778333306312561\n"
     ]
    }
   ],
   "source": [
    "score = model.evaluate(testX, testYOneHot, batch_size=128)\n",
    "print()\n",
    "print(\"\\nloss=%s \\naccuracy=%s\" % (score[0], score[1]))"
   ]
  },
  {
   "cell_type": "markdown",
   "metadata": {},
   "source": [
    "[回索引](#索引)"
   ]
  },
  {
   "cell_type": "markdown",
   "metadata": {},
   "source": [
    "#### 2.e. 檢視50筆測試資料的預測結果，以稍為了解預測是否還算ok"
   ]
  },
  {
   "cell_type": "code",
   "execution_count": null,
   "metadata": {},
   "outputs": [],
   "source": [
    "_pred_y = (\n",
    "    model(\n",
    "        # np.expand_dims(trainValX[j], axis=0), # [H, W] -> [1, H, W]\n",
    "        trainValX,  # [num_samples, H, W]\n",
    "    )\n",
    "    .cpu()\n",
    "    .detach()\n",
    "    .numpy()\n",
    "    .argmax(axis=-1)\n",
    ")\n",
    "_true_y = trainValY\n",
    "\n",
    "accuracy = (_true_y == _pred_y).mean()\n",
    "accuracy"
   ]
  },
  {
   "cell_type": "code",
   "execution_count": null,
   "metadata": {},
   "outputs": [],
   "source": [
    "for j in range(50):\n",
    "    predY = model.predict(trainValX[j : j + 1, :]).argmax()\n",
    "    trueY = trainValYOneHot[j].argmax()\n",
    "    print(predY, trueY, end=\"\\t\")"
   ]
  },
  {
   "cell_type": "markdown",
   "metadata": {},
   "source": [
    "[回索引](#索引)"
   ]
  },
  {
   "cell_type": "markdown",
   "metadata": {},
   "source": [
    "#### 2.f. 畫出模型訓練過程"
   ]
  },
  {
   "cell_type": "code",
   "execution_count": 72,
   "metadata": {},
   "outputs": [
    {
     "data": {
      "image/png": "[encoded data removed]",
      "text/plain": [
       "<Figure size 640x480 with 1 Axes>"
      ]
     },
     "metadata": {},
     "output_type": "display_data"
    }
   ],
   "source": [
    "plt.plot(hist.history[\"accuracy\"], ms=5, marker=\"o\", label=\"accuracy\")\n",
    "plt.plot(hist.history[\"val_accuracy\"], ms=5, marker=\"o\", label=\"val accuracy\")\n",
    "plt.legend()\n",
    "plt.show()"
   ]
  },
  {
   "cell_type": "markdown",
   "metadata": {},
   "source": [
    "[回索引](#索引)"
   ]
  },
  {
   "cell_type": "markdown",
   "metadata": {},
   "source": [
    "#### 2.g. 儲存模型和權重"
   ]
  },
  {
   "cell_type": "code",
   "execution_count": null,
   "metadata": {},
   "outputs": [],
   "source": [
    "import json\n",
    "\n",
    "with open(\"first_try.json\", \"w\") as jsOut:\n",
    "    json.dump(model.to_json(), jsOut)\n",
    "\n",
    "model.save_weights(\"first_try.h5\")"
   ]
  },
  {
   "cell_type": "markdown",
   "metadata": {},
   "source": [
    "[回索引](#索引)"
   ]
  },
  {
   "cell_type": "markdown",
   "metadata": {},
   "source": [
    "#### 2.h. 載入存好的模型和權重"
   ]
  },
  {
   "cell_type": "code",
   "execution_count": null,
   "metadata": {},
   "outputs": [],
   "source": [
    "from keras.models import model_from_json"
   ]
  },
  {
   "cell_type": "code",
   "execution_count": null,
   "metadata": {},
   "outputs": [],
   "source": [
    "with open(\"first_try.json\", \"r\") as jsIn:\n",
    "    modelJson = json.load(jsIn)\n",
    "\n",
    "modelLoaded = model_from_json(modelJson)\n",
    "modelLoaded.load_weights(\"first_try.h5\")\n",
    "\n",
    "modelLoaded.summary()"
   ]
  },
  {
   "cell_type": "markdown",
   "metadata": {},
   "source": [
    "[回索引](#索引)"
   ]
  },
  {
   "cell_type": "markdown",
   "metadata": {},
   "source": [
    "#### 2.i. 輸出分類報告"
   ]
  },
  {
   "cell_type": "code",
   "execution_count": 73,
   "metadata": {},
   "outputs": [
    {
     "name": "stdout",
     "output_type": "stream",
     "text": [
      "\u001b[1m19/19\u001b[0m \u001b[32m━━━━━━━━━━━━━━━━━━━━\u001b[0m\u001b[37m\u001b[0m \u001b[1m0s\u001b[0m 2ms/step\n",
      "              precision    recall  f1-score   support\n",
      "\n",
      "           0       0.00      0.00      0.00        58\n",
      "           1       0.89      0.93      0.91        61\n",
      "           2       0.87      0.87      0.87        55\n",
      "           3       0.83      0.83      0.83        59\n",
      "           4       0.73      0.96      0.83        56\n",
      "           5       0.53      0.71      0.61        58\n",
      "           6       0.84      0.95      0.89        61\n",
      "           7       0.91      0.92      0.91        74\n",
      "           8       0.60      0.93      0.73        57\n",
      "           9       1.00      0.64      0.78        61\n",
      "\n",
      "    accuracy                           0.78       600\n",
      "   macro avg       0.72      0.77      0.74       600\n",
      "weighted avg       0.73      0.78      0.74       600\n",
      "\n"
     ]
    },
    {
     "name": "stderr",
     "output_type": "stream",
     "text": [
      "/home/ds/dl/lib/python3.12/site-packages/sklearn/metrics/_classification.py:1706: UndefinedMetricWarning: Precision is ill-defined and being set to 0.0 in labels with no predicted samples. Use `zero_division` parameter to control this behavior.\n",
      "  _warn_prf(average, modifier, f\"{metric.capitalize()} is\", result.shape[0])\n",
      "/home/ds/dl/lib/python3.12/site-packages/sklearn/metrics/_classification.py:1706: UndefinedMetricWarning: Precision is ill-defined and being set to 0.0 in labels with no predicted samples. Use `zero_division` parameter to control this behavior.\n",
      "  _warn_prf(average, modifier, f\"{metric.capitalize()} is\", result.shape[0])\n",
      "/home/ds/dl/lib/python3.12/site-packages/sklearn/metrics/_classification.py:1706: UndefinedMetricWarning: Precision is ill-defined and being set to 0.0 in labels with no predicted samples. Use `zero_division` parameter to control this behavior.\n",
      "  _warn_prf(average, modifier, f\"{metric.capitalize()} is\", result.shape[0])\n"
     ]
    }
   ],
   "source": [
    "from sklearn.metrics import classification_report\n",
    "\n",
    "predY = model.predict(testX).argmax(axis=1)\n",
    "print(classification_report(testY, predY))"
   ]
  },
  {
   "cell_type": "markdown",
   "metadata": {},
   "source": [
    "[回索引](#索引)"
   ]
  },
  {
   "cell_type": "markdown",
   "metadata": {},
   "source": [
    "## 3. Simple Convolutional Neural Network"
   ]
  },
  {
   "cell_type": "code",
   "execution_count": 74,
   "metadata": {},
   "outputs": [],
   "source": [
    "trainX = trainX.reshape(*trainX.shape, 1)\n",
    "trainValX = trainValX.reshape(*trainValX.shape, 1)\n",
    "testX = testX.reshape(*testX.shape, 1)"
   ]
  },
  {
   "cell_type": "code",
   "execution_count": 75,
   "metadata": {},
   "outputs": [
    {
     "data": {
      "text/plain": [
       "(4800, 28, 28, 1)"
      ]
     },
     "execution_count": 75,
     "metadata": {},
     "output_type": "execute_result"
    }
   ],
   "source": [
    "trainX.shape"
   ]
  },
  {
   "cell_type": "markdown",
   "metadata": {},
   "source": [
    "#### 3.a. 建立模型"
   ]
  },
  {
   "cell_type": "code",
   "execution_count": null,
   "metadata": {},
   "outputs": [],
   "source": [
    "from keras.models import Sequential\n",
    "from keras.layers import Dense, Dropout, Flatten, Conv2D, MaxPooling2D\n",
    "from keras.layers import Activation\n",
    "from keras.optimizers import SGD, Adam, Adamax\n",
    "\n",
    "input_shape = (28, 28, 1)\n",
    "\n",
    "model = Sequential()\n",
    "\n",
    "# conv1\n",
    "model.add(\n",
    "    Conv2D(filters=32, kernel_size=(3, 3), activation=\"relu\", input_shape=input_shape)\n",
    ")\n",
    "\n",
    "# conv2\n",
    "model.add(Conv2D(filters=64, kernel_size=(3, 3), activation=\"relu\"))\n",
    "# pool1\n",
    "model.add(MaxPooling2D(pool_size=(2, 2)))\n",
    "# conv3\n",
    "model.add(Conv2D(filters=64, kernel_size=(3, 3), activation=\"relu\"))\n",
    "# pool2\n",
    "model.add(MaxPooling2D(pool_size=(2, 2)))\n",
    "# dropout1\n",
    "model.add(Dropout(0.5))\n",
    "model.add(Flatten())\n",
    "# dense1\n",
    "model.add(Dense(128, activation=\"relu\"))\n",
    "# dropout2\n",
    "model.add(Dropout(0.5))\n",
    "# dense2\n",
    "model.add(Dense(10, activation=\"softmax\"))\n",
    "\n",
    "model.compile(\n",
    "    loss=\"categorical_crossentropy\",\n",
    "    optimizer=SGD(lr=0.05),\n",
    "    metrics=[\"accuracy\"],\n",
    ")"
   ]
  },
  {
   "cell_type": "markdown",
   "metadata": {},
   "source": [
    "[回索引](#索引)"
   ]
  },
  {
   "cell_type": "markdown",
   "metadata": {},
   "source": [
    "#### 3.b. 訓練模型"
   ]
  },
  {
   "cell_type": "code",
   "execution_count": null,
   "metadata": {},
   "outputs": [],
   "source": [
    "%%time \n",
    "hist = model.fit(trainX, trainYOneHot, \n",
    "                 epochs=30,\n",
    "                 batch_size=128,\n",
    "                 validation_data=(trainValX,trainValYOneHot),)"
   ]
  },
  {
   "cell_type": "markdown",
   "metadata": {},
   "source": [
    "[回索引](#索引)"
   ]
  },
  {
   "cell_type": "markdown",
   "metadata": {},
   "source": [
    "#### 3.c. 檢視模型訓練結果"
   ]
  },
  {
   "cell_type": "code",
   "execution_count": null,
   "metadata": {},
   "outputs": [],
   "source": [
    "plt.plot(hist.history[\"accuracy\"], ms=5, marker=\"o\", label=\"accuracy\")\n",
    "plt.plot(hist.history[\"val_accuracy\"], ms=5, marker=\"o\", label=\"val accuracy\")\n",
    "plt.legend()\n",
    "plt.show()"
   ]
  },
  {
   "cell_type": "markdown",
   "metadata": {},
   "source": [
    "[回索引](#索引)"
   ]
  },
  {
   "cell_type": "markdown",
   "metadata": {},
   "source": [
    "#### 3.d. 檢視模型準確率"
   ]
  },
  {
   "cell_type": "code",
   "execution_count": null,
   "metadata": {},
   "outputs": [],
   "source": [
    "score = model.evaluate(testX, testYOneHot, batch_size=128)\n",
    "print()\n",
    "print(\"\\nloss=%s \\naccuracy=%s\" % (score[0], score[1]))"
   ]
  },
  {
   "cell_type": "markdown",
   "metadata": {},
   "source": [
    "[回索引](#索引)"
   ]
  },
  {
   "cell_type": "markdown",
   "metadata": {},
   "source": [
    "#### 3.e. 檢視分類報告"
   ]
  },
  {
   "cell_type": "code",
   "execution_count": null,
   "metadata": {},
   "outputs": [],
   "source": [
    "from sklearn.metrics import classification_report\n",
    "\n",
    "predY = model.predict(testX).argmax(axis=1)\n",
    "print(classification_report(testY, predY))"
   ]
  },
  {
   "cell_type": "markdown",
   "metadata": {},
   "source": [
    "[回索引](#索引)"
   ]
  },
  {
   "cell_type": "markdown",
   "metadata": {},
   "source": [
    "#### 練習\n",
    "\n",
    "調整參數。嘗試增加或減少模型複雜度，並再次訓練，看模型準確度能否有所提升。"
   ]
  },
  {
   "cell_type": "code",
   "execution_count": null,
   "metadata": {},
   "outputs": [],
   "source": []
  }
 ],
 "metadata": {
  "kernelspec": {
   "display_name": "dl",
   "language": "python",
   "name": "python3"
  },
  "language_info": {
   "codemirror_mode": {
    "name": "ipython",
    "version": 3
   },
   "file_extension": ".py",
   "mimetype": "text/x-python",
   "name": "python",
   "nbconvert_exporter": "python",
   "pygments_lexer": "ipython3",
   "version": "3.12.3"
  }
 },
 "nbformat": 4,
 "nbformat_minor": 4
}
