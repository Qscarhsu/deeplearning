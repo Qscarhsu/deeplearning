{
 "cells": [
  {
   "cell_type": "markdown",
   "metadata": {},
   "source": [
    "目的: 初步理解如何使用PyTorch進行倒數計算和模型優化。"
   ]
  },
  {
   "cell_type": "markdown",
   "metadata": {},
   "source": [
    "---"
   ]
  },
  {
   "cell_type": "markdown",
   "metadata": {},
   "source": [
    "#### 練習1: $y = 3x$，求$\\frac{dy}{dx}|_{x=10}$。"
   ]
  },
  {
   "cell_type": "code",
   "execution_count": 2,
   "metadata": {},
   "outputs": [],
   "source": [
    "import torch\n",
    "import numpy as np"
   ]
  },
  {
   "cell_type": "code",
   "execution_count": 7,
   "metadata": {},
   "outputs": [
    {
     "name": "stdout",
     "output_type": "stream",
     "text": [
      "tensor([3.])\n"
     ]
    }
   ],
   "source": [
    "x = torch.tensor(\n",
    "    [10.0],\n",
    "    dtype=torch.float32,\n",
    "    requires_grad=True,\n",
    ")  # 未來會有某v對x偏微分\n",
    "\n",
    "y = 3.0 * x\n",
    "\n",
    "y.backward()  # 將會把y去對整張算圖內的, 所有已知要算梯度的權重(或是所謂張量), 去算偏微分\n",
    "print(x.grad)  # 存y對x偏微分的結果"
   ]
  },
  {
   "cell_type": "markdown",
   "metadata": {},
   "source": [
    "#### 練習2: $y = 3x^2$，求$\\frac{dy}{dx}|_{x=10}$。"
   ]
  },
  {
   "cell_type": "code",
   "execution_count": null,
   "metadata": {},
   "outputs": [
    {
     "name": "stdout",
     "output_type": "stream",
     "text": [
      "tensor([120.])\n"
     ]
    }
   ],
   "source": [
    "x = torch.tensor(\n",
    "    [10.0],\n",
    "    dtype=torch.float32,\n",
    "    requires_grad=True,\n",
    ")  # 未來會有某v對x偏微分\n",
    "\n",
    "y = 3.0 * (x**2)\n",
    "\n",
    "y.backward()  # 將會把y去對整張算圖內的, 所有已知要算梯度的權重(或是所謂張量), 去算偏微分\n",
    "print(x.grad)  # 存y對x偏微分的結果"
   ]
  },
  {
   "cell_type": "markdown",
   "metadata": {},
   "source": [
    "#### 練習3: $z = (x+y)^2$，求$\\frac{\\partial z}{\\partial y}|_{(x=10,y=5)}$。"
   ]
  },
  {
   "cell_type": "code",
   "execution_count": 10,
   "metadata": {},
   "outputs": [
    {
     "name": "stdout",
     "output_type": "stream",
     "text": [
      "tensor([30.])\n",
      "tensor([30.])\n"
     ]
    }
   ],
   "source": [
    "# FORWARARD PROPAGATION\n",
    "\n",
    "x = torch.tensor(\n",
    "    [\n",
    "        10.0,\n",
    "    ],\n",
    "    dtype=torch.float32,\n",
    "    requires_grad=True,\n",
    ")  # 未來會有?對x偏微分\n",
    "y = torch.tensor(\n",
    "    [\n",
    "        5.0,\n",
    "    ],\n",
    "    dtype=torch.float32,\n",
    "    requires_grad=True,\n",
    ")  # 未來會有?對y偏微分\n",
    "u = x + y\n",
    "z = u**2\n",
    "\n",
    "# BACKWARD PROPAGATION\n",
    "z.backward()  # 將會把y去對整張算圖內的, 所有已知要算梯度的權重(或是所謂張量), 去算偏微分\n",
    "\n",
    "print(x.grad)  # 存z對x偏微分的結果\n",
    "print(y.grad)  # 存z對y偏微分的結果"
   ]
  },
  {
   "cell_type": "code",
   "execution_count": null,
   "metadata": {},
   "outputs": [
    {
     "name": "stdout",
     "output_type": "stream",
     "text": [
      "tensor([30., 30.])\n"
     ]
    }
   ],
   "source": [
    "u = torch.tensor(\n",
    "    [10.0, 5.0],\n",
    "    dtype=torch.float32,\n",
    "    requires_grad=True,\n",
    ")  # 未來會有?對u偏微分\n",
    "\n",
    "z = torch.sum(u) ** 2\n",
    "\n",
    "z.backward()  # 將會把y去對整張算圖內的, 所有已知要算梯度的權重(或是所謂張量), 去算偏微分\n",
    "print(u.grad)  # 存z對u偏微分的結果"
   ]
  },
  {
   "cell_type": "markdown",
   "metadata": {},
   "source": [
    "#### 練習4: 試用PyTorch計算$\\frac{d\\sin(x)}{dx}$。並將$sin(x)$以及$\\frac{d\\sin(x)}{dx}$透過Matplotlib畫圖。"
   ]
  },
  {
   "cell_type": "code",
   "execution_count": 2,
   "metadata": {},
   "outputs": [],
   "source": [
    "import matplotlib.pyplot as plt\n",
    "import torch\n",
    "import numpy as np"
   ]
  },
  {
   "cell_type": "code",
   "execution_count": 18,
   "metadata": {},
   "outputs": [],
   "source": [
    "# FORWARD PROPAGATION\n",
    "x = torch.tensor(\n",
    "    np.linspace(\n",
    "        0.0,\n",
    "        2.0 * np.pi,\n",
    "        100,\n",
    "    ),\n",
    "    requires_grad=True,\n",
    ")\n",
    "u = torch.sin(\n",
    "    x\n",
    ")  # u 攜帶 [sin(0), sin(0+0.063), sin(0+0.063+0.063), ...., sin(2.*np.pi)]\n",
    "y = torch.sum(u)  # why this?\n",
    "\n",
    "# BACKWARD PROPAGATION\n",
    "y.backward()  # 使得x.grad攜帶 [cos(0), cos(0+0.063), cos(0+0.063+0.063), ...., cos(2.*np.pi)]"
   ]
  },
  {
   "cell_type": "markdown",
   "metadata": {},
   "source": [
    "$y=\\sin(x_1) + \\sin(x_2) + ... + \\sin(x_N)$\n",
    "\n",
    "$\\frac{\\partial y}{\\partial x_1} = \\frac{\\sin(x_1)}{\\partial x_1}=\\cos(x_1)$\n",
    "\n",
    "$\\frac{\\partial y}{\\partial x_2} = \\frac{\\sin(x_2)}{\\partial x_2}=\\cos(x_2)$\n",
    "..\n",
    "..\n",
    "$\\frac{\\partial y}{\\partial x_N} = \\frac{\\sin(x_N)}{\\partial x_N}=\\cos(x_N)$\n"
   ]
  },
  {
   "cell_type": "code",
   "execution_count": null,
   "metadata": {},
   "outputs": [
    {
     "data": {
      "image/png": "[encoded data removed]",
      "text/plain": [
       "<Figure size 640x480 with 1 Axes>"
      ]
     },
     "metadata": {},
     "output_type": "display_data"
    }
   ],
   "source": [
    "plt.scatter(\n",
    "    x.detach().numpy(),\n",
    "    u.detach().numpy(),  # sine\n",
    "    label=\"$\\\\sin(x)$\",\n",
    "    s=1,\n",
    ")\n",
    "\n",
    "plt.scatter(\n",
    "    x.detach().numpy(),\n",
    "    x.grad.numpy(),  # cosine\n",
    "    label=\"$\\\\cos(x)=\\\\frac{d \\\\sin(x)}{d x}$\",\n",
    "    s=1,\n",
    ")\n",
    "plt.legend()\n",
    "plt.show()"
   ]
  },
  {
   "cell_type": "markdown",
   "metadata": {},
   "source": [
    "#### 練習5: $Loss=|w_1| + |w_2|$。請用Gradient Descent優化器，優化出可將此$Loss$最小化的最適$w_1$和$w_2$。"
   ]
  },
  {
   "cell_type": "code",
   "execution_count": null,
   "metadata": {},
   "outputs": [],
   "source": []
  },
  {
   "cell_type": "code",
   "execution_count": null,
   "metadata": {},
   "outputs": [],
   "source": []
  },
  {
   "cell_type": "markdown",
   "metadata": {},
   "source": [
    "Find optimal ($w_1$, $w_2$,..., $w_N$) to minimize Loss. \n",
    "\n",
    "Loss (Lasso)=$|w_1|+|w_2|+..+|w_N|$\n",
    "\n",
    "Answer: ($w_1=0$, $w_2=0$,..., $w_N=0$) "
   ]
  },
  {
   "cell_type": "markdown",
   "metadata": {},
   "source": [
    "$L = L_0 + \\lambda * L_{l_1}$ (原來Loss+Lasso懲罰項)"
   ]
  },
  {
   "cell_type": "markdown",
   "metadata": {},
   "source": [
    "when $\\lambda * L_{l_1} \\gg L_0$, $L\\approx \\lambda * L_{l_1}$"
   ]
  },
  {
   "cell_type": "code",
   "execution_count": null,
   "metadata": {},
   "outputs": [
    {
     "data": {
      "text/plain": [
       "<matplotlib.collections.PathCollection at 0x7a71b10cf1d0>"
      ]
     },
     "execution_count": 23,
     "metadata": {},
     "output_type": "execute_result"
    },
    {
     "data": {
      "image/png": "[encoded data removed]",
      "text/plain": [
       "<Figure size 500x500 with 1 Axes>"
      ]
     },
     "metadata": {},
     "output_type": "display_data"
    }
   ],
   "source": [
    "plt.figure(figsize=(5, 5))\n",
    "plt.scatter(w1.detach().numpy(), w2.detach().numpy())"
   ]
  },
  {
   "cell_type": "code",
   "execution_count": null,
   "metadata": {},
   "outputs": [],
   "source": []
  },
  {
   "cell_type": "code",
   "execution_count": 39,
   "metadata": {},
   "outputs": [
    {
     "name": "stdout",
     "output_type": "stream",
     "text": [
      "0\n",
      "1\n",
      "2\n",
      "3\n",
      "4\n"
     ]
    }
   ],
   "source": [
    "degrees = np.linspace(0, 2.0 * np.pi, 100, dtype=np.float32)\n",
    "r = 5\n",
    "w1 = r * np.cos(degrees)\n",
    "w2 = r * np.sin(degrees)\n",
    "w1_original = np.copy(w1)\n",
    "w2_original = np.copy(w2)\n",
    "\n",
    "w1 = torch.tensor(w1, requires_grad=True)\n",
    "w2 = torch.tensor(w2, requires_grad=True)\n",
    "\n",
    "learning_rate: float = 0.1\n",
    "opt = torch.optim.SGD(params=[w1, w2], lr=learning_rate)\n",
    "\n",
    "num_iterations: int = 5\n",
    "for iteration_idx in range(num_iterations):\n",
    "    print(iteration_idx)\n",
    "\n",
    "    # FORWARD PROPAGATION\n",
    "    loss = torch.sum(torch.abs(w1)) + torch.sum(torch.abs(w2))\n",
    "\n",
    "    # BACKWARD PROPAGATION\n",
    "    loss.backward()  # 算出loss分別對於w1和w2的偏微分, 換句話說, 得到w1和w2的梯度\n",
    "\n",
    "    # Loss Optimization\n",
    "    opt.step()  # 透過ooo的梯度, 將ooo梯度下降\n",
    "\n",
    "    # opt.zero_grad()  # bad side effect (清掉梯度歷史紀錄, 讓未來沒有機會累加梯度!)"
   ]
  },
  {
   "cell_type": "code",
   "execution_count": 40,
   "metadata": {},
   "outputs": [
    {
     "data": {
      "text/plain": [
       "array([5.       , 4.9899335, 4.959774 , 4.9096437, 4.8397436],\n",
       "      dtype=float32)"
      ]
     },
     "execution_count": 40,
     "metadata": {},
     "output_type": "execute_result"
    }
   ],
   "source": [
    "w1_original[:5]"
   ]
  },
  {
   "cell_type": "code",
   "execution_count": 41,
   "metadata": {},
   "outputs": [
    {
     "data": {
      "text/plain": [
       "tensor([3.5000, 3.4899, 3.4598, 3.4096, 3.3397], grad_fn=<SliceBackward0>)"
      ]
     },
     "execution_count": 41,
     "metadata": {},
     "output_type": "execute_result"
    }
   ],
   "source": [
    "w1[:5]"
   ]
  },
  {
   "cell_type": "markdown",
   "metadata": {},
   "source": [
    "w1:\n",
    "* iteration 0: $g_{w_1}^{0}$\n",
    "* iteration 1: $g_{w_1}^{1}$\n",
    "* iteration 2: $g_{w_1}^{2}$"
   ]
  },
  {
   "cell_type": "markdown",
   "metadata": {},
   "source": [
    "* iteration 0: $g_{w_1}^{0}=0.1$\n",
    "* iteration 1: $g_{w_1}^{0} + g_{w_1}^{1}=0.1*2$\n",
    "* iteration 2: $g_{w_1}^{0} + g_{w_1}^{1} + g_{w_1}^{2}=0.1*3$\n",
    "* iteration 3: $g_{w_1}^{0} + ... + g_{w_1}^{3}=0.1*4$\n",
    "* iteration 4: $g_{w_1}^{0} + ... + g_{w_1}^{4}=0.1*5$"
   ]
  },
  {
   "cell_type": "code",
   "execution_count": 43,
   "metadata": {},
   "outputs": [
    {
     "data": {
      "text/plain": [
       "1.5"
      ]
     },
     "execution_count": 43,
     "metadata": {},
     "output_type": "execute_result"
    }
   ],
   "source": [
    "0.1 + 0.1 * 2 + 0.1 * 3 + 0.1 * 4 + 0.1 * 5"
   ]
  }
 ],
 "metadata": {
  "kernelspec": {
   "display_name": "dl",
   "language": "python",
   "name": "python3"
  },
  "language_info": {
   "codemirror_mode": {
    "name": "ipython",
    "version": 3
   },
   "file_extension": ".py",
   "mimetype": "text/x-python",
   "name": "python",
   "nbconvert_exporter": "python",
   "pygments_lexer": "ipython3",
   "version": "3.12.3"
  }
 },
 "nbformat": 4,
 "nbformat_minor": 2
}
