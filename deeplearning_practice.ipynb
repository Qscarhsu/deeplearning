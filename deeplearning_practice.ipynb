{
 "cells": [
  {
   "cell_type": "code",
   "execution_count": null,
   "id": "3dbf8aa8",
   "metadata": {},
   "outputs": [],
   "source": [
    "import torch\n",
    "import torch.nn as nn\n",
    "import torch.optim as optim\n",
    "from torch.utils.data import DataLoader\n",
    "from torchvision import datasets, transforms\n",
    "import matplotlib.pyplot as plt\n",
    "import pandas as pd\n",
    "import numpy as np\n",
    "\n"
   ]
  },
  {
   "cell_type": "code",
   "execution_count": null,
   "id": "44001bae",
   "metadata": {},
   "outputs": [],
   "source": [
    "df = pd.read_csv(r\"dateset\\15m_data.csv\", sep = \"\\t\")\n",
    "\n",
    "df.head(100)\n",
    "\n",
    "df.columns\n",
    "\n",
    "df.info()\n",
    "\n"
   ]
  },
  {
   "cell_type": "code",
   "execution_count": null,
   "id": "08308c4c",
   "metadata": {},
   "outputs": [],
   "source": [
    "#定義InputX InputY\n",
    "Y = df['Close'].astype('Float32')\n",
    "\n",
    "df['DateTime'] = pd.to_datetime(df['DateTime']) #原本時間是物件 改成pandas時間格式\n",
    "\n",
    "df[\"Timestamp\"] = df[\"DateTime\"].astype(\"int64\")//10**9 #將時間改成秒數\n",
    "\n",
    "df[\"Timestamp\"].values\n",
    "\n",
    "X_time = torch.tensor(df[\"Timestamp\"].values, dtype=torch.float32 )\n",
    "\n",
    "Y_data = torch.tensor(Y.values, dtype= torch.float32)\n",
    "\n",
    "df[\"Timestamp\"].values\n",
    "\n"
   ]
  },
  {
   "cell_type": "code",
   "execution_count": 58,
   "id": "0431d719",
   "metadata": {},
   "outputs": [
    {
     "data": {
      "text/plain": [
       "tensor([1.7392e+09, 1.7392e+09, 1.7392e+09,  ..., 1.4792e+09, 1.4792e+09,\n",
       "        1.4792e+09])"
      ]
     },
     "execution_count": 58,
     "metadata": {},
     "output_type": "execute_result"
    }
   ],
   "source": [
    "#建立神經網路(每五個時間點預測一次)\n",
    "\n",
    "model =nn.Sequential(\n",
    "    nn.Linear(5,4),\n",
    "    nn.ReLU(),\n",
    "    nn.Linear(4,4),\n",
    "    nn.ReLU(),\n",
    "    nn.Linear(4,1)\n",
    ")\n",
    "\n",
    "X_time[9999:]"
   ]
  },
  {
   "cell_type": "code",
   "execution_count": 62,
   "id": "1d9f9db7",
   "metadata": {},
   "outputs": [],
   "source": [
    "#分割資料集\n",
    "\n",
    "\n",
    "train_ratio = 0.8\n",
    "\n",
    "train_size = int(len(X_time)*0.8)\n",
    "test_size = int(len(X_time) - train_size)\n",
    "\n",
    "X_train = X_time[:train_size]\n",
    "X_test = X_time[-test_size: ]\n",
    "Y_train = Y_data[:train_size]\n",
    "Y_test = Y_data[-test_size:]\n",
    "\n"
   ]
  },
  {
   "cell_type": "code",
   "execution_count": null,
   "id": "26180a5d",
   "metadata": {},
   "outputs": [
    {
     "name": "stdout",
     "output_type": "stream",
     "text": [
      "總共可以切出多少組： 161335\n",
      "tensor([1.7525e+09, 1.7525e+09, 1.7525e+09, 1.7525e+09, 1.7525e+09]) tensor(22708.0996)\n"
     ]
    }
   ],
   "source": [
    "#繼承pytorch裡面的物件dataloader，並修改裡面的dunder method\n",
    "\n",
    "class TimeSeriesWindowSet(Dataset):\n",
    "    def __init__(self, X_time, Y_data, window_size):\n",
    "\n",
    "        self.X_time = X_time\n",
    "        self.Y_data = Y_data\n",
    "        self.window_size = window_size\n",
    "\n",
    "    def __len__(self):\n",
    "\n",
    "        return len(self.X_time) - self.window_size\n",
    "    \n",
    "    def __getitem__(self, idx):\n",
    "\n",
    "        x = self.X_time[idx : idx + self.window_size ]\n",
    "        y = self.Y_data[idx + self.window_size]\n",
    "\n",
    "        return x, y\n",
    "\n",
    "\n",
    "#測試一下我自己定義的物件\n",
    "\n",
    "window_size = 5\n",
    "\n",
    "\n",
    "timeslicer = TimeSeriesWindowSet(X_train,Y_train, window_size)\n",
    "\n",
    "\n",
    "print(\"總共可以切出多少組：\", len(timeslicer))\n",
    "\n",
    "x, y = timeslicer[155]\n",
    "\n",
    "print(x,y)\n",
    "\n",
    "dataloader = DataLoader(timeslicer, batch_size=75, shuffle= True)\n",
    "\n",
    "\n"
   ]
  },
  {
   "cell_type": "code",
   "execution_count": null,
   "id": "e4cfea38",
   "metadata": {},
   "outputs": [],
   "source": [
    "dataloader = DataLoader(timeslicer, batch_size=75, shuffle= True)\n",
    "\n",
    "optimizer = optim.SGD(model.parameters(), lr = 0.01)\n",
    "\n"
   ]
  },
  {
   "cell_type": "markdown",
   "id": "c6958fd9",
   "metadata": {},
   "source": [
    "Example 1:\n",
    "\n",
    "Input: x = 121\n",
    "Output: true\n",
    "Explanation: 121 reads as 121 from left to right and from right to left.\n",
    "Example 2:\n",
    "\n",
    "Input: x = -121\n",
    "Output: false\n",
    "Explanation: From left to right, it reads -121. From right to left, it becomes 121-. Therefore it is not a palindrome.\n",
    "Example 3:\n",
    "\n",
    "Input: x = 10\n",
    "Output: false\n",
    "Explanation: Reads 01 from right to left. Therefore it is not a palindrome."
   ]
  },
  {
   "cell_type": "code",
   "execution_count": null,
   "id": "64c7fb18",
   "metadata": {},
   "outputs": [],
   "source": [
    "s = \"123\"\n",
    "print(s[::-1])"
   ]
  },
  {
   "cell_type": "code",
   "execution_count": null,
   "id": "cb5fbc41",
   "metadata": {},
   "outputs": [],
   "source": [
    "def isPalindrome(x: int):\n",
    "\n",
    "    if x < 0:\n",
    "       \n",
    "        return False\n",
    "    \n",
    "    else:\n",
    "\n",
    "        if str(x) == str(x)[::-1]:\n",
    "\n",
    "            return True\n",
    "        else:\n",
    "\n",
    "            return False\n",
    "\n",
    "    \n",
    "\n",
    "for x in [121, -121, 10]:\n",
    "    print(isPalindrome(x))\n",
    "\n"
   ]
  },
  {
   "cell_type": "code",
   "execution_count": null,
   "id": "a6125af6",
   "metadata": {},
   "outputs": [],
   "source": [
    "nums = [3,3]\n",
    "target = 6\n",
    "\n",
    "def twoSum(nums, target):\n",
    "\n",
    "    list = []\n",
    "\n",
    "    for i in range(len(nums)):\n",
    "        x = nums[i]\n",
    "\n",
    "        for j in range(i+1,len(nums)):\n",
    "\n",
    "            if x + nums[j] == target:\n",
    "                list.append(x)\n",
    "                list.append(nums[j])\n",
    "            else:\n",
    "                pass\n",
    "    return list\n",
    "        \n",
    "\n",
    "twoSum(nums, target)\n",
    "\n",
    "\n",
    "\n",
    "\n",
    "    \n",
    "\n"
   ]
  },
  {
   "cell_type": "code",
   "execution_count": null,
   "id": "1e39371e",
   "metadata": {},
   "outputs": [],
   "source": [
    "def reverse(x):\n",
    "\n",
    "        if x < (-2)**31 or x > (2**31) - 1:\n",
    "            return 0\n",
    "        if x < 0 :\n",
    "            x = -x\n",
    "            reverse_num = int(str(x)[::-1])\n",
    "            return reverse_num * -1\n",
    "\n",
    "        else:\n",
    "\n",
    "            reverse_num = int(str(x)[::-1])\n",
    "            return reverse_num\n",
    "        \n",
    "x = 1534236469\n",
    "reverse(x)"
   ]
  }
 ],
 "metadata": {
  "kernelspec": {
   "display_name": ".venv",
   "language": "python",
   "name": "python3"
  },
  "language_info": {
   "codemirror_mode": {
    "name": "ipython",
    "version": 3
   },
   "file_extension": ".py",
   "mimetype": "text/x-python",
   "name": "python",
   "nbconvert_exporter": "python",
   "pygments_lexer": "ipython3",
   "version": "3.10.0"
  }
 },
 "nbformat": 4,
 "nbformat_minor": 5
}
